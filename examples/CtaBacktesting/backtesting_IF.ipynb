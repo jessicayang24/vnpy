{
 "cells": [
  {
   "cell_type": "code",
   "execution_count": 7,
   "metadata": {
    "collapsed": false
   },
   "outputs": [],
   "source": [
    "%matplotlib inline\n",
    "\n",
    "from vnpy.trader.app.ctaStrategy.ctaBacktesting import BacktestingEngine, OptimizationSetting, MINUTE_DB_NAME\n",
    "from vnpy.trader.app.ctaStrategy.strategy.strategyAtrRsi import AtrRsiStrategy\n",
    "#from vnpy.trader.app.ctaStrategy.strategy.strategyMultiTimeframe import MultiTimeframeStrategy\n",
    "from vnpy.trader.app.ctaStrategy.strategy.strategyMultiSignal import MultiSignalStrategy"
   ]
  },
  {
   "cell_type": "code",
   "execution_count": 2,
   "metadata": {
    "collapsed": true
   },
   "outputs": [],
   "source": [
    "# 创建回测引擎对象\n",
    "engine = BacktestingEngine()"
   ]
  },
  {
   "cell_type": "code",
   "execution_count": 3,
   "metadata": {
    "collapsed": false
   },
   "outputs": [],
   "source": [
    "# 设置回测使用的数据\n",
    "engine.setBacktestingMode(engine.BAR_MODE)    # 设置引擎的回测模式为K线\n",
    "engine.setDatabase(MINUTE_DB_NAME, 'IF0000')  # 设置使用的历史数据库\n",
    "engine.setStartDate('20130101')               # 设置回测用的数据起始日期"
   ]
  },
  {
   "cell_type": "code",
   "execution_count": 4,
   "metadata": {
    "collapsed": false
   },
   "outputs": [],
   "source": [
    "# 配置回测引擎参数\n",
    "engine.setSlippage(0.2)     # 设置滑点为股指1跳\n",
    "engine.setRate(0.3/10000)   # 设置手续费万0.3\n",
    "engine.setSize(300)         # 设置股指合约大小 \n",
    "engine.setPriceTick(0.2)    # 设置股指最小价格变动   \n",
    "engine.setCapital(1000000)  # 设置回测本金"
   ]
  },
  {
   "cell_type": "code",
   "execution_count": 5,
   "metadata": {
    "collapsed": false
   },
   "outputs": [],
   "source": [
    "# 在引擎中创建策略对象\n",
    "d = {'atrLength': 11}                     # 策略参数配置\n",
    "#engine.initStrategy(AtrRsiStrategy, d)    # 创建策略对象\n",
    "#ngine.initStrategy(MultiTimeframeStrategy, d)    \n",
    "engine.initStrategy(MultiSignalStrategy, {})    "
   ]
  },
  {
   "cell_type": "code",
   "execution_count": null,
   "metadata": {
    "collapsed": false
   },
   "outputs": [],
   "source": [
    "# 运行回测\n",
    "engine.runBacktesting()          # 运行回测"
   ]
  },
  {
   "cell_type": "code",
   "execution_count": null,
   "metadata": {
    "collapsed": false
   },
   "outputs": [],
   "source": [
    "# 显示逐日回测结果\n",
    "engine.showDailyResult()"
   ]
  },
  {
   "cell_type": "code",
   "execution_count": null,
   "metadata": {
    "collapsed": false
   },
   "outputs": [],
   "source": [
    "# 显示逐笔回测结果\n",
    "engine.showBacktestingResult()"
   ]
  },
  {
   "cell_type": "code",
   "execution_count": null,
   "metadata": {
    "collapsed": false
   },
   "outputs": [],
   "source": [
    "# 显示前10条成交记录\n",
    "for i in range(10):\n",
    "    d = engine.tradeDict[str(i+1)].__dict__\n",
    "    print 'TradeID: %s, Time: %s, Direction: %s, Price: %s, Volume: %s' %(d['tradeID'], d['dt'], d['direction'], d['price'], d['volume'])"
   ]
  },
  {
   "cell_type": "code",
   "execution_count": 9,
   "metadata": {
    "collapsed": false
   },
   "outputs": [
    {
     "name": "stdout",
     "output_type": "stream",
     "text": [
      "2018-01-08 17:25:47.836000\t------------------------------\n",
      "2018-01-08 17:25:47.836000\t优化结果：\n",
      "2018-01-08 17:25:47.837000\t参数：{'rsiLength': 5, 'atrMa': 20, 'atrLength': 14}，目标：1012046.4324\n",
      "2018-01-08 17:25:47.837000\t参数：{'rsiLength': 5, 'atrMa': 25, 'atrLength': 14}，目标：1012046.4324\n",
      "2018-01-08 17:25:47.837000\t参数：{'rsiLength': 5, 'atrMa': 30, 'atrLength': 14}，目标：1012046.4324\n",
      "2018-01-08 17:25:47.837000\t参数：{'rsiLength': 5, 'atrMa': 20, 'atrLength': 12}，目标：1004664.3888\n",
      "2018-01-08 17:25:47.837000\t参数：{'rsiLength': 5, 'atrMa': 25, 'atrLength': 12}，目标：1004664.3888\n",
      "2018-01-08 17:25:47.837000\t参数：{'rsiLength': 5, 'atrMa': 30, 'atrLength': 12}，目标：1004664.3888\n",
      "2018-01-08 17:25:47.837000\t参数：{'rsiLength': 5, 'atrMa': 20, 'atrLength': 16}，目标：983785.8654\n",
      "2018-01-08 17:25:47.837000\t参数：{'rsiLength': 5, 'atrMa': 25, 'atrLength': 16}，目标：983785.8654\n",
      "2018-01-08 17:25:47.837000\t参数：{'rsiLength': 5, 'atrMa': 30, 'atrLength': 16}，目标：983785.8654\n",
      "耗时：207.414000034\n"
     ]
    }
   ],
   "source": [
    "# 优化配置\n",
    "setting = OptimizationSetting()                 # 新建一个优化任务设置对象\n",
    "setting.setOptimizeTarget('totalNetPnl')        # 设置优化排序的目标是策略净盈利\n",
    "setting.addParameter('atrLength', 12, 16, 2)    # 增加第一个优化参数atrLength，起始12，结束20，步进2\n",
    "setting.addParameter('atrMa', 20, 30, 5)        # 增加第二个优化参数atrMa，起始20，结束30，步进5\n",
    "setting.addParameter('rsiLength', 5)            # 增加一个固定数值的参数\n",
    "\n",
    "# 执行多进程优化\n",
    "import time\n",
    "start = time.time()\n",
    "resultList = engine.runParallelOptimization(AtrRsiStrategy, setting)\n",
    "print u'耗时：%s' %(time.time()-start)"
   ]
  },
  {
   "cell_type": "code",
   "execution_count": 13,
   "metadata": {
    "collapsed": false
   },
   "outputs": [
    {
     "name": "stdout",
     "output_type": "stream",
     "text": [
      "------------------------------\n",
      "参数：{'rsiLength': 5, 'atrMa': 20, 'atrLength': 14}，目标：1012046.4324\n",
      "统计数据：\n",
      "startDate：2010-04-16\n",
      "totalDays：1761\n",
      "endBalance：2012046.4324\n",
      "endDate：2017-07-14\n",
      "dailyTurnover：5160203.81601\n",
      "totalNetPnl：1012046.4324\n",
      "dailyCommission：154.80611448\n",
      "returnStd：0.891698573803\n",
      "totalTradeCount：9587\n",
      "dailyReturn：0.0394081002553\n",
      "dailySlippage：326.6439523\n",
      "lossDays：901\n",
      "dailyNetPnl：574.699848041\n",
      "dailyTradeCount：5.44406587166\n",
      "profitDays：859\n",
      "totalReturn：101.20464324\n",
      "totalTurnover：9087118920.0\n",
      "totalSlippage：575220.0\n",
      "maxDrawdown：-183004.5084\n",
      "sharpeRatio：0.684656992748\n",
      "totalCommission：272613.5676\n",
      "------------------------------\n",
      "参数：{'rsiLength': 5, 'atrMa': 25, 'atrLength': 14}，目标：1012046.4324\n",
      "统计数据：\n",
      "startDate：2010-04-16\n",
      "totalDays：1761\n",
      "endBalance：2012046.4324\n",
      "endDate：2017-07-14\n",
      "dailyTurnover：5160203.81601\n",
      "totalNetPnl：1012046.4324\n",
      "dailyCommission：154.80611448\n",
      "returnStd：0.891698573803\n",
      "totalTradeCount：9587\n",
      "dailyReturn：0.0394081002553\n",
      "dailySlippage：326.6439523\n",
      "lossDays：901\n",
      "dailyNetPnl：574.699848041\n",
      "dailyTradeCount：5.44406587166\n",
      "profitDays：859\n",
      "totalReturn：101.20464324\n",
      "totalTurnover：9087118920.0\n",
      "totalSlippage：575220.0\n",
      "maxDrawdown：-183004.5084\n",
      "sharpeRatio：0.684656992748\n",
      "totalCommission：272613.5676\n",
      "------------------------------\n",
      "参数：{'rsiLength': 5, 'atrMa': 30, 'atrLength': 14}，目标：1012046.4324\n",
      "统计数据：\n",
      "startDate：2010-04-16\n",
      "totalDays：1761\n",
      "endBalance：2012046.4324\n",
      "endDate：2017-07-14\n",
      "dailyTurnover：5160203.81601\n",
      "totalNetPnl：1012046.4324\n",
      "dailyCommission：154.80611448\n",
      "returnStd：0.891698573803\n",
      "totalTradeCount：9587\n",
      "dailyReturn：0.0394081002553\n",
      "dailySlippage：326.6439523\n",
      "lossDays：901\n",
      "dailyNetPnl：574.699848041\n",
      "dailyTradeCount：5.44406587166\n",
      "profitDays：859\n",
      "totalReturn：101.20464324\n",
      "totalTurnover：9087118920.0\n",
      "totalSlippage：575220.0\n",
      "maxDrawdown：-183004.5084\n",
      "sharpeRatio：0.684656992748\n",
      "totalCommission：272613.5676\n",
      "------------------------------\n",
      "参数：{'rsiLength': 5, 'atrMa': 20, 'atrLength': 12}，目标：1004664.3888\n",
      "统计数据：\n",
      "startDate：2010-04-16\n",
      "totalDays：1761\n",
      "endBalance：2004664.3888\n",
      "endDate：2017-07-14\n",
      "dailyTurnover：5179549.71039\n",
      "totalNetPnl：1004664.3888\n",
      "dailyCommission：155.386491312\n",
      "returnStd：0.887696038596\n",
      "totalTradeCount：9619\n",
      "dailyReturn：0.0391993739583\n",
      "dailySlippage：327.734241908\n",
      "lossDays：899\n",
      "dailyNetPnl：570.507886882\n",
      "dailyTradeCount：5.46223736513\n",
      "profitDays：861\n",
      "totalReturn：100.46643888\n",
      "totalTurnover：9121187040.0\n",
      "totalSlippage：577140.0\n",
      "maxDrawdown：-201527.1462\n",
      "sharpeRatio：0.684101385707\n",
      "totalCommission：273635.6112\n",
      "------------------------------\n",
      "参数：{'rsiLength': 5, 'atrMa': 25, 'atrLength': 12}，目标：1004664.3888\n",
      "统计数据：\n",
      "startDate：2010-04-16\n",
      "totalDays：1761\n",
      "endBalance：2004664.3888\n",
      "endDate：2017-07-14\n",
      "dailyTurnover：5179549.71039\n",
      "totalNetPnl：1004664.3888\n",
      "dailyCommission：155.386491312\n",
      "returnStd：0.887696038596\n",
      "totalTradeCount：9619\n",
      "dailyReturn：0.0391993739583\n",
      "dailySlippage：327.734241908\n",
      "lossDays：899\n",
      "dailyNetPnl：570.507886882\n",
      "dailyTradeCount：5.46223736513\n",
      "profitDays：861\n",
      "totalReturn：100.46643888\n",
      "totalTurnover：9121187040.0\n",
      "totalSlippage：577140.0\n",
      "maxDrawdown：-201527.1462\n",
      "sharpeRatio：0.684101385707\n",
      "totalCommission：273635.6112\n",
      "------------------------------\n",
      "参数：{'rsiLength': 5, 'atrMa': 30, 'atrLength': 12}，目标：1004664.3888\n",
      "统计数据：\n",
      "startDate：2010-04-16\n",
      "totalDays：1761\n",
      "endBalance：2004664.3888\n",
      "endDate：2017-07-14\n",
      "dailyTurnover：5179549.71039\n",
      "totalNetPnl：1004664.3888\n",
      "dailyCommission：155.386491312\n",
      "returnStd：0.887696038596\n",
      "totalTradeCount：9619\n",
      "dailyReturn：0.0391993739583\n",
      "dailySlippage：327.734241908\n",
      "lossDays：899\n",
      "dailyNetPnl：570.507886882\n",
      "dailyTradeCount：5.46223736513\n",
      "profitDays：861\n",
      "totalReturn：100.46643888\n",
      "totalTurnover：9121187040.0\n",
      "totalSlippage：577140.0\n",
      "maxDrawdown：-201527.1462\n",
      "sharpeRatio：0.684101385707\n",
      "totalCommission：273635.6112\n",
      "------------------------------\n",
      "参数：{'rsiLength': 5, 'atrMa': 20, 'atrLength': 16}，目标：983785.8654\n",
      "统计数据：\n",
      "startDate：2010-04-16\n",
      "totalDays：1761\n",
      "endBalance：1983785.8654\n",
      "endDate：2017-07-14\n",
      "dailyTurnover：5153400.2385\n",
      "totalNetPnl：983785.8654\n",
      "dailyCommission：154.602007155\n",
      "returnStd：0.92264098262\n",
      "totalTradeCount：9579\n",
      "dailyReturn：0.0386421451957\n",
      "dailySlippage：326.371379898\n",
      "lossDays：902\n",
      "dailyNetPnl：558.651825894\n",
      "dailyTradeCount：5.4395229983\n",
      "profitDays：858\n",
      "totalReturn：98.37858654\n",
      "totalTurnover：9075137820.0\n",
      "totalSlippage：574740.0\n",
      "maxDrawdown：-212996.1012\n",
      "sharpeRatio：0.648834758585\n",
      "totalCommission：272254.1346\n",
      "------------------------------\n",
      "参数：{'rsiLength': 5, 'atrMa': 25, 'atrLength': 16}，目标：983785.8654\n",
      "统计数据：\n",
      "startDate：2010-04-16\n",
      "totalDays：1761\n",
      "endBalance：1983785.8654\n",
      "endDate：2017-07-14\n",
      "dailyTurnover：5153400.2385\n",
      "totalNetPnl：983785.8654\n",
      "dailyCommission：154.602007155\n",
      "returnStd：0.92264098262\n",
      "totalTradeCount：9579\n",
      "dailyReturn：0.0386421451957\n",
      "dailySlippage：326.371379898\n",
      "lossDays：902\n",
      "dailyNetPnl：558.651825894\n",
      "dailyTradeCount：5.4395229983\n",
      "profitDays：858\n",
      "totalReturn：98.37858654\n",
      "totalTurnover：9075137820.0\n",
      "totalSlippage：574740.0\n",
      "maxDrawdown：-212996.1012\n",
      "sharpeRatio：0.648834758585\n",
      "totalCommission：272254.1346\n",
      "------------------------------\n",
      "参数：{'rsiLength': 5, 'atrMa': 30, 'atrLength': 16}，目标：983785.8654\n",
      "统计数据：\n",
      "startDate：2010-04-16\n",
      "totalDays：1761\n",
      "endBalance：1983785.8654\n",
      "endDate：2017-07-14\n",
      "dailyTurnover：5153400.2385\n",
      "totalNetPnl：983785.8654\n",
      "dailyCommission：154.602007155\n",
      "returnStd：0.92264098262\n",
      "totalTradeCount：9579\n",
      "dailyReturn：0.0386421451957\n",
      "dailySlippage：326.371379898\n",
      "lossDays：902\n",
      "dailyNetPnl：558.651825894\n",
      "dailyTradeCount：5.4395229983\n",
      "profitDays：858\n",
      "totalReturn：98.37858654\n",
      "totalTurnover：9075137820.0\n",
      "totalSlippage：574740.0\n",
      "maxDrawdown：-212996.1012\n",
      "sharpeRatio：0.648834758585\n",
      "totalCommission：272254.1346\n"
     ]
    }
   ],
   "source": [
    "# 显示优化的所有统计数据\n",
    "for result in resultList:\n",
    "    print '-' * 30\n",
    "    print u'参数：%s，目标：%s' %(result[0], result[1])\n",
    "    print u'统计数据：'\n",
    "    for k, v in result[2].items():\n",
    "        print u'%s：%s' %(k, v)"
   ]
  },
  {
   "cell_type": "code",
   "execution_count": null,
   "metadata": {
    "collapsed": true
   },
   "outputs": [],
   "source": []
  }
 ],
 "metadata": {
  "kernelspec": {
   "display_name": "Python 2",
   "language": "python",
   "name": "python2"
  },
  "language_info": {
   "codemirror_mode": {
    "name": "ipython",
    "version": 2
   },
   "file_extension": ".py",
   "mimetype": "text/x-python",
   "name": "python",
   "nbconvert_exporter": "python",
   "pygments_lexer": "ipython2",
   "version": "2.7.13"
  }
 },
 "nbformat": 4,
 "nbformat_minor": 0
}
